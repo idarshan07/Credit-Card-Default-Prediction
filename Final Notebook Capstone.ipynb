{
 "cells": [
  {
   "cell_type": "code",
   "execution_count": 1,
   "id": "3da5db0e",
   "metadata": {},
   "outputs": [],
   "source": [
    "import pandas as pd\n",
    "import numpy as np\n",
    "import matplotlib.pyplot as plt\n",
    "import seaborn as sns\n",
    "from sklearn.metrics import classification_report\n",
    "\n",
    "%matplotlib inline"
   ]
  },
  {
   "cell_type": "code",
   "execution_count": 2,
   "id": "ed413119",
   "metadata": {
    "scrolled": true
   },
   "outputs": [
    {
     "data": {
      "text/html": [
       "<div>\n",
       "<style scoped>\n",
       "    .dataframe tbody tr th:only-of-type {\n",
       "        vertical-align: middle;\n",
       "    }\n",
       "\n",
       "    .dataframe tbody tr th {\n",
       "        vertical-align: top;\n",
       "    }\n",
       "\n",
       "    .dataframe thead th {\n",
       "        text-align: right;\n",
       "    }\n",
       "</style>\n",
       "<table border=\"1\" class=\"dataframe\">\n",
       "  <thead>\n",
       "    <tr style=\"text-align: right;\">\n",
       "      <th></th>\n",
       "      <th>LIMIT_BAL</th>\n",
       "      <th>SEX</th>\n",
       "      <th>EDUCATION</th>\n",
       "      <th>MARRIAGE</th>\n",
       "      <th>AGE</th>\n",
       "      <th>PAY_0</th>\n",
       "      <th>PAY_2</th>\n",
       "      <th>PAY_3</th>\n",
       "      <th>PAY_4</th>\n",
       "      <th>PAY_5</th>\n",
       "      <th>PAY_6</th>\n",
       "      <th>BILL_AMT1</th>\n",
       "      <th>BILL_AMT2</th>\n",
       "      <th>BILL_AMT3</th>\n",
       "      <th>BILL_AMT4</th>\n",
       "      <th>BILL_AMT5</th>\n",
       "      <th>BILL_AMT6</th>\n",
       "      <th>PAY_AMT1</th>\n",
       "      <th>PAY_AMT2</th>\n",
       "      <th>PAY_AMT3</th>\n",
       "      <th>PAY_AMT4</th>\n",
       "      <th>PAY_AMT5</th>\n",
       "      <th>PAY_AMT6</th>\n",
       "      <th>default</th>\n",
       "    </tr>\n",
       "  </thead>\n",
       "  <tbody>\n",
       "    <tr>\n",
       "      <th>0</th>\n",
       "      <td>20000</td>\n",
       "      <td>2</td>\n",
       "      <td>2</td>\n",
       "      <td>1</td>\n",
       "      <td>24</td>\n",
       "      <td>2</td>\n",
       "      <td>2</td>\n",
       "      <td>-1</td>\n",
       "      <td>-1</td>\n",
       "      <td>-2</td>\n",
       "      <td>-2</td>\n",
       "      <td>3913</td>\n",
       "      <td>3102</td>\n",
       "      <td>689</td>\n",
       "      <td>0</td>\n",
       "      <td>0</td>\n",
       "      <td>0</td>\n",
       "      <td>0</td>\n",
       "      <td>689</td>\n",
       "      <td>0</td>\n",
       "      <td>0</td>\n",
       "      <td>0</td>\n",
       "      <td>0</td>\n",
       "      <td>1</td>\n",
       "    </tr>\n",
       "    <tr>\n",
       "      <th>1</th>\n",
       "      <td>120000</td>\n",
       "      <td>2</td>\n",
       "      <td>2</td>\n",
       "      <td>2</td>\n",
       "      <td>26</td>\n",
       "      <td>-1</td>\n",
       "      <td>2</td>\n",
       "      <td>0</td>\n",
       "      <td>0</td>\n",
       "      <td>0</td>\n",
       "      <td>2</td>\n",
       "      <td>2682</td>\n",
       "      <td>1725</td>\n",
       "      <td>2682</td>\n",
       "      <td>3272</td>\n",
       "      <td>3455</td>\n",
       "      <td>3261</td>\n",
       "      <td>0</td>\n",
       "      <td>1000</td>\n",
       "      <td>1000</td>\n",
       "      <td>1000</td>\n",
       "      <td>0</td>\n",
       "      <td>2000</td>\n",
       "      <td>1</td>\n",
       "    </tr>\n",
       "    <tr>\n",
       "      <th>2</th>\n",
       "      <td>90000</td>\n",
       "      <td>2</td>\n",
       "      <td>2</td>\n",
       "      <td>2</td>\n",
       "      <td>34</td>\n",
       "      <td>0</td>\n",
       "      <td>0</td>\n",
       "      <td>0</td>\n",
       "      <td>0</td>\n",
       "      <td>0</td>\n",
       "      <td>0</td>\n",
       "      <td>29239</td>\n",
       "      <td>14027</td>\n",
       "      <td>13559</td>\n",
       "      <td>14331</td>\n",
       "      <td>14948</td>\n",
       "      <td>15549</td>\n",
       "      <td>1518</td>\n",
       "      <td>1500</td>\n",
       "      <td>1000</td>\n",
       "      <td>1000</td>\n",
       "      <td>1000</td>\n",
       "      <td>5000</td>\n",
       "      <td>0</td>\n",
       "    </tr>\n",
       "    <tr>\n",
       "      <th>3</th>\n",
       "      <td>50000</td>\n",
       "      <td>2</td>\n",
       "      <td>2</td>\n",
       "      <td>1</td>\n",
       "      <td>37</td>\n",
       "      <td>0</td>\n",
       "      <td>0</td>\n",
       "      <td>0</td>\n",
       "      <td>0</td>\n",
       "      <td>0</td>\n",
       "      <td>0</td>\n",
       "      <td>46990</td>\n",
       "      <td>48233</td>\n",
       "      <td>49291</td>\n",
       "      <td>28314</td>\n",
       "      <td>28959</td>\n",
       "      <td>29547</td>\n",
       "      <td>2000</td>\n",
       "      <td>2019</td>\n",
       "      <td>1200</td>\n",
       "      <td>1100</td>\n",
       "      <td>1069</td>\n",
       "      <td>1000</td>\n",
       "      <td>0</td>\n",
       "    </tr>\n",
       "    <tr>\n",
       "      <th>4</th>\n",
       "      <td>50000</td>\n",
       "      <td>1</td>\n",
       "      <td>2</td>\n",
       "      <td>1</td>\n",
       "      <td>57</td>\n",
       "      <td>-1</td>\n",
       "      <td>0</td>\n",
       "      <td>-1</td>\n",
       "      <td>0</td>\n",
       "      <td>0</td>\n",
       "      <td>0</td>\n",
       "      <td>8617</td>\n",
       "      <td>5670</td>\n",
       "      <td>35835</td>\n",
       "      <td>20940</td>\n",
       "      <td>19146</td>\n",
       "      <td>19131</td>\n",
       "      <td>2000</td>\n",
       "      <td>36681</td>\n",
       "      <td>10000</td>\n",
       "      <td>9000</td>\n",
       "      <td>689</td>\n",
       "      <td>679</td>\n",
       "      <td>0</td>\n",
       "    </tr>\n",
       "  </tbody>\n",
       "</table>\n",
       "</div>"
      ],
      "text/plain": [
       "   LIMIT_BAL  SEX  EDUCATION  MARRIAGE  AGE  PAY_0  PAY_2  PAY_3  PAY_4  \\\n",
       "0      20000    2          2         1   24      2      2     -1     -1   \n",
       "1     120000    2          2         2   26     -1      2      0      0   \n",
       "2      90000    2          2         2   34      0      0      0      0   \n",
       "3      50000    2          2         1   37      0      0      0      0   \n",
       "4      50000    1          2         1   57     -1      0     -1      0   \n",
       "\n",
       "   PAY_5  PAY_6  BILL_AMT1  BILL_AMT2  BILL_AMT3  BILL_AMT4  BILL_AMT5  \\\n",
       "0     -2     -2       3913       3102        689          0          0   \n",
       "1      0      2       2682       1725       2682       3272       3455   \n",
       "2      0      0      29239      14027      13559      14331      14948   \n",
       "3      0      0      46990      48233      49291      28314      28959   \n",
       "4      0      0       8617       5670      35835      20940      19146   \n",
       "\n",
       "   BILL_AMT6  PAY_AMT1  PAY_AMT2  PAY_AMT3  PAY_AMT4  PAY_AMT5  PAY_AMT6  \\\n",
       "0          0         0       689         0         0         0         0   \n",
       "1       3261         0      1000      1000      1000         0      2000   \n",
       "2      15549      1518      1500      1000      1000      1000      5000   \n",
       "3      29547      2000      2019      1200      1100      1069      1000   \n",
       "4      19131      2000     36681     10000      9000       689       679   \n",
       "\n",
       "   default  \n",
       "0        1  \n",
       "1        1  \n",
       "2        0  \n",
       "3        0  \n",
       "4        0  "
      ]
     },
     "execution_count": 2,
     "metadata": {},
     "output_type": "execute_result"
    }
   ],
   "source": [
    "data = pd.read_excel(\"default of credit card clients.xls\", header = 1)\n",
    "pd.set_option('display.max_columns',100)\n",
    "data.rename({\"default payment next month\":\"default\"},axis = 1, inplace = True)\n",
    "data.drop(\"ID\", axis=1, inplace =True)\n",
    "data.head()"
   ]
  },
  {
   "cell_type": "code",
   "execution_count": 3,
   "id": "44e70281",
   "metadata": {},
   "outputs": [
    {
     "name": "stdout",
     "output_type": "stream",
     "text": [
      "Null values\n"
     ]
    },
    {
     "data": {
      "text/plain": [
       "LIMIT_BAL    0\n",
       "SEX          0\n",
       "EDUCATION    0\n",
       "MARRIAGE     0\n",
       "AGE          0\n",
       "PAY_0        0\n",
       "PAY_2        0\n",
       "PAY_3        0\n",
       "PAY_4        0\n",
       "PAY_5        0\n",
       "PAY_6        0\n",
       "BILL_AMT1    0\n",
       "BILL_AMT2    0\n",
       "BILL_AMT3    0\n",
       "BILL_AMT4    0\n",
       "BILL_AMT5    0\n",
       "BILL_AMT6    0\n",
       "PAY_AMT1     0\n",
       "PAY_AMT2     0\n",
       "PAY_AMT3     0\n",
       "PAY_AMT4     0\n",
       "PAY_AMT5     0\n",
       "PAY_AMT6     0\n",
       "default      0\n",
       "dtype: int64"
      ]
     },
     "execution_count": 3,
     "metadata": {},
     "output_type": "execute_result"
    }
   ],
   "source": [
    "print(\"Null values\")\n",
    "data.isnull().sum()"
   ]
  },
  {
   "cell_type": "code",
   "execution_count": 4,
   "id": "1d5c8cce",
   "metadata": {},
   "outputs": [
    {
     "name": "stdout",
     "output_type": "stream",
     "text": [
      "Class split\n",
      "0    23364\n",
      "1     6636\n",
      "Name: default, dtype: int64\n"
     ]
    },
    {
     "data": {
      "text/plain": [
       "Text(0, 0.5, 'Count')"
      ]
     },
     "execution_count": 4,
     "metadata": {},
     "output_type": "execute_result"
    },
    {
     "data": {
      "image/png": "[encoded data removed]",
      "text/plain": [
       "<Figure size 720x360 with 1 Axes>"
      ]
     },
     "metadata": {
      "needs_background": "light"
     },
     "output_type": "display_data"
    }
   ],
   "source": [
    "print('Class split')\n",
    "print(data['default'].value_counts())\n",
    "data['default'].value_counts().plot.bar(figsize=(10,5),title='Classes Split for Dataset')\n",
    "plt.xlabel('Classes')\n",
    "plt.ylabel('Count')"
   ]
  },
  {
   "cell_type": "code",
   "execution_count": 5,
   "id": "f70afe64",
   "metadata": {
    "scrolled": false
   },
   "outputs": [
    {
     "name": "stdout",
     "output_type": "stream",
     "text": [
      "         EDUCATION      LIMIT_BAL\n",
      "0                0  217142.857143\n",
      "1                5  168164.285714\n",
      "2                6  148235.294118\n",
      "3  Graduate School  212956.069910\n",
      "4       Highschool  126550.270490\n",
      "5           Others  220894.308943\n",
      "6       University  147062.437634\n"
     ]
    }
   ],
   "source": [
    "lim_bal = data['LIMIT_BAL'].groupby(by=data['EDUCATION'].replace({1:\"Graduate School\",2:\"University\", 3:\"Highschool\", 4:\"Others\"})).mean()\n",
    "limit_data=pd.DataFrame(lim_bal).reset_index()\n",
    "#limit_data.rename(columns={'SEX':\"Gender\", \"LIMIT_BAL\":\"Credit Limit\"},inplace=True)\n",
    "print(limit_data)\n",
    "#sns.barplot(x='Gender',y=\"Credit Limit\",data=limit_data)"
   ]
  },
  {
   "cell_type": "code",
   "execution_count": 6,
   "id": "ac6b4a23",
   "metadata": {
    "scrolled": true
   },
   "outputs": [
    {
     "name": "stdout",
     "output_type": "stream",
     "text": [
      "(29655, 24)\n"
     ]
    }
   ],
   "source": [
    "new_data = data.copy()\n",
    "new_data=new_data.drop(new_data[new_data['EDUCATION'] == 0].index)\n",
    "new_data=new_data.drop(new_data[new_data['EDUCATION'] == 5].index)\n",
    "new_data=new_data.drop(new_data[new_data['EDUCATION'] == 6].index)\n",
    "print(new_data.shape)"
   ]
  },
  {
   "cell_type": "code",
   "execution_count": 7,
   "id": "4d06db96",
   "metadata": {},
   "outputs": [],
   "source": [
    "x = new_data.drop('default',axis=1).to_numpy()\n",
    "y = new_data['default'].to_numpy()\n",
    "\n",
    "# Create Train and Test Datasets\n",
    "from sklearn.model_selection import train_test_split\n",
    "x_train, x_test, y_train, y_test_final = train_test_split(x, y, test_size=0.20,stratify=y,random_state=100)\n"
   ]
  },
  {
   "cell_type": "code",
   "execution_count": 8,
   "id": "69ce5b84",
   "metadata": {},
   "outputs": [
    {
     "name": "stdout",
     "output_type": "stream",
     "text": [
      "SMOTE - Class Split\n",
      "Class 0 - 18436\n",
      "Class 1 - 18436\n"
     ]
    }
   ],
   "source": [
    "#SMOTE oversampling\n",
    "from imblearn.over_sampling import SMOTE\n",
    "smt=SMOTE(random_state=100)\n",
    "x_train_smt,y_train_final = smt.fit_resample(x_train,y_train)\n",
    "\n",
    "#Class Balance - Test Data\n",
    "print('SMOTE - Class Split')\n",
    "num_zeros = (y_train_final == 0).sum()\n",
    "num_ones = (y_train_final == 1).sum()\n",
    "print('Class 0 -',  num_zeros)\n",
    "print('Class 1 -',  num_ones)\n",
    "\n",
    "#Scale the Data\n",
    "from sklearn.preprocessing import StandardScaler\n",
    "scaler = StandardScaler()\n",
    "x_train_final = scaler.fit_transform(x_train_smt)\n",
    "x_test_final = scaler.transform(x_test)"
   ]
  },
  {
   "cell_type": "code",
   "execution_count": null,
   "id": "7ceadbcc",
   "metadata": {},
   "outputs": [],
   "source": []
  },
  {
   "cell_type": "code",
   "execution_count": null,
   "id": "22d52616",
   "metadata": {},
   "outputs": [],
   "source": []
  },
  {
   "cell_type": "code",
   "execution_count": 9,
   "id": "9643ac6a",
   "metadata": {},
   "outputs": [
    {
     "name": "stdout",
     "output_type": "stream",
     "text": [
      "{'criterion': 'entropy', 'max_depth': 9, 'max_features': 6, 'n_estimators': 200}\n",
      "              precision    recall  f1-score   support\n",
      "\n",
      "           0       0.87      0.84      0.85      4609\n",
      "           1       0.49      0.56      0.52      1322\n",
      "\n",
      "    accuracy                           0.77      5931\n",
      "   macro avg       0.68      0.70      0.69      5931\n",
      "weighted avg       0.78      0.77      0.78      5931\n",
      "\n",
      "Runtime  =  59.492775440216064\n"
     ]
    }
   ],
   "source": [
    "from time import time\n",
    "\n",
    "time_start=time()\n",
    "from sklearn.ensemble import RandomForestClassifier\n",
    "from sklearn.model_selection import GridSearchCV\n",
    "\n",
    "rfc_model = RandomForestClassifier(random_state = 7, class_weight='balanced', n_jobs=-1)\n",
    "params={\"n_estimators\":[150,200],\n",
    "        \"max_features\": [6,7],\n",
    "        'max_depth': [8,9],\n",
    "       \"criterion\":['entropy']}\n",
    "rfc_classifier = GridSearchCV(estimator = rfc_model, param_grid = params, scoring = \"recall_weighted\")\n",
    "rfc_classifier.fit(x_train_final, y_train_final)\n",
    "rfc_predict = rfc_classifier.predict(x_test_final)\n",
    "print(rfc_classifier.best_params_)\n",
    "print(classification_report(y_test_final, rfc_predict))\n",
    "\n",
    "time_end=time()\n",
    "print(\"Runtime  = \",time_end-time_start)"
   ]
  },
  {
   "cell_type": "code",
   "execution_count": 10,
   "id": "a78c910f",
   "metadata": {},
   "outputs": [
    {
     "name": "stdout",
     "output_type": "stream",
     "text": [
      "Feature Importances:\n",
      "LIMIT_BAL 0.03\n",
      "SEX 0.06\n",
      "EDUCATION 0.03\n",
      "MARRIAGE 0.07\n",
      "AGE 0.02\n",
      "PAY_0 0.17\n",
      "PAY_2 0.17\n",
      "PAY_3 0.07\n",
      "PAY_4 0.04\n",
      "PAY_5 0.04\n",
      "PAY_6 0.02\n",
      "BILL_AMT1 0.04\n",
      "BILL_AMT2 0.02\n",
      "BILL_AMT3 0.02\n",
      "BILL_AMT4 0.02\n",
      "BILL_AMT5 0.01\n",
      "BILL_AMT6 0.01\n",
      "PAY_AMT1 0.05\n",
      "PAY_AMT2 0.03\n",
      "PAY_AMT3 0.03\n",
      "PAY_AMT4 0.02\n",
      "PAY_AMT5 0.02\n",
      "PAY_AMT6 0.02\n"
     ]
    }
   ],
   "source": [
    "print('Feature Importances:')\n",
    "for name, score in zip(list(new_data),rfc_classifier.best_estimator_.feature_importances_):\n",
    "    print(name, round(score,2))"
   ]
  },
  {
   "cell_type": "code",
   "execution_count": 11,
   "id": "8b47549f",
   "metadata": {},
   "outputs": [],
   "source": [
    "#Define Plot for learning curve\n",
    "\n",
    "from sklearn.model_selection import learning_curve\n",
    "\n",
    "def plot_learning_curves(model):\n",
    "    train_sizes, train_scores, test_scores = learning_curve(estimator=model,\n",
    "                                                            X=x_train_final, \n",
    "                                                            y=y_train_final,\n",
    "                                                            train_sizes= np.linspace(0.7, 1.0, 6),\n",
    "                                                            cv=5,\n",
    "                                                            scoring='recall_weighted',random_state=100)\n",
    "    train_mean = np.mean(train_scores, axis=1)\n",
    "    train_std = np.std(train_scores, axis=1)\n",
    "    test_mean = np.mean(test_scores, axis=1)\n",
    "    test_std = np.std(test_scores, axis=1)\n",
    "    \n",
    "    plt.plot(train_sizes, train_mean,color='blue', marker='o', \n",
    "             markersize=5, label='training accuracy')\n",
    "    plt.fill_between(train_sizes, train_mean + train_std, train_mean - train_std,\n",
    "                     alpha=0.15, color='blue')\n",
    "\n",
    "    plt.plot(train_sizes, test_mean, color='green', linestyle='--', marker='s', markersize=5,\n",
    "             label='validation accuracy')\n",
    "    plt.fill_between(train_sizes, test_mean + test_std, test_mean - test_std,\n",
    "                     alpha=0.15, color='green')\n",
    "    plt.grid(True)\n",
    "    plt.xlabel('Number of training samples')\n",
    "    plt.ylabel('Recall')\n",
    "    plt.legend(loc='best')\n",
    "    plt.ylim([0.5, 1.01])\n",
    "    plt.show()"
   ]
  },
  {
   "cell_type": "code",
   "execution_count": 12,
   "id": "9664e5a4",
   "metadata": {
    "scrolled": false
   },
   "outputs": [
    {
     "data": {
      "image/png": "[encoded data removed]",
      "text/plain": [
       "<Figure size 432x288 with 1 Axes>"
      ]
     },
     "metadata": {
      "needs_background": "light"
     },
     "output_type": "display_data"
    }
   ],
   "source": [
    "plot_learning_curves(rfc_classifier.best_estimator_)"
   ]
  },
  {
   "cell_type": "code",
   "execution_count": 16,
   "id": "35ec6a9d",
   "metadata": {},
   "outputs": [
    {
     "name": "stdout",
     "output_type": "stream",
     "text": [
      "ROC Curve\n"
     ]
    },
    {
     "data": {
      "image/png": "[encoded data removed]",
      "text/plain": [
       "<Figure size 432x288 with 1 Axes>"
      ]
     },
     "metadata": {
      "needs_background": "light"
     },
     "output_type": "display_data"
    }
   ],
   "source": [
    "from sklearn.metrics import roc_curve, auc\n",
    "from sklearn import metrics\n",
    "fpr, tpr, threshold = metrics.roc_curve(OutcomeB1, ForecastB1)\n",
    "roc_auc = metrics.auc(fpr, tpr)\n",
    "print('ROC Curve')\n",
    "#Plot the ROC Curve\n",
    "plt.title('Receiver Operating Characteristic')\n",
    "plt.plot(fpr, tpr, 'b', label = 'AUC = %0.2f' % roc_auc)\n",
    "plt.legend(loc = 'lower right')\n",
    "plt.plot([0, 1], [0, 1],'r--')\n",
    "plt.xlim([0, 1])\n",
    "plt.ylim([0, 1])\n",
    "plt.ylabel('True Positive Rate')\n",
    "plt.xlabel('False Positive Rate')\n",
    "plt.show() "
   ]
  },
  {
   "cell_type": "code",
   "execution_count": 15,
   "id": "5e9ca3bf",
   "metadata": {},
   "outputs": [],
   "source": [
    "from sklearn import preprocessing\n",
    "Forecast1=pd.DataFrame(rfc_predict)\n",
    "Outcome1=pd.DataFrame(y_test_final)\n",
    "lb1 = preprocessing.LabelBinarizer()\n",
    "OutcomeB1 =lb1.fit_transform(Outcome1)\n",
    "ForecastB1 = lb1.fit_transform(Forecast1)"
   ]
  },
  {
   "cell_type": "code",
   "execution_count": null,
   "id": "4a930017",
   "metadata": {},
   "outputs": [],
   "source": []
  }
 ],
 "metadata": {
  "kernelspec": {
   "display_name": "Python 3 (ipykernel)",
   "language": "python",
   "name": "python3"
  },
  "language_info": {
   "codemirror_mode": {
    "name": "ipython",
    "version": 3
   },
   "file_extension": ".py",
   "mimetype": "text/x-python",
   "name": "python",
   "nbconvert_exporter": "python",
   "pygments_lexer": "ipython3",
   "version": "3.10.4"
  }
 },
 "nbformat": 4,
 "nbformat_minor": 5
}
